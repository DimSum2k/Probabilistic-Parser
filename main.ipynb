{
 "cells": [
  {
   "cell_type": "markdown",
   "metadata": {},
   "source": [
    "# Packages"
   ]
  },
  {
   "cell_type": "code",
   "execution_count": 1,
   "metadata": {},
   "outputs": [],
   "source": [
    "%load_ext autoreload\n",
    "%autoreload 2"
   ]
  },
  {
   "cell_type": "code",
   "execution_count": 14,
   "metadata": {},
   "outputs": [],
   "source": [
    "from pprint import pprint, pformat\n",
    "from utils import read, split, build_vocabulary, extract_sentences\n",
    "from PCFG import PCFG\n",
    "from OOV import Word2Vec, get_best_sentence\n",
    "from Ngram import Automaton\n",
    "import nltk\n",
    "\n",
    "import time"
   ]
  },
  {
   "cell_type": "markdown",
   "metadata": {},
   "source": [
    "# Data"
   ]
  },
  {
   "cell_type": "code",
   "execution_count": 3,
   "metadata": {
    "scrolled": true
   },
   "outputs": [
    {
     "name": "stdout",
     "output_type": "stream",
     "text": [
      "3099\n",
      "( (SENT (ADV Ensuite) (PONCT ,) (VN (V fut) (VPP installée)) (NP (DET une) (ADJ autre) (NC forge)) (PP (P à) (NP (DET la) (NPP Vacquerie))) (PONCT ,) (PP (P à) (NP (DET l') (NC emplacement) (ADV aujourd'_hui) (PP (P de) (NP (NPP Cora))))) (PONCT .)))\n"
     ]
    }
   ],
   "source": [
    "# extract constituency trees in bracketed formats without functional labels\n",
    "corpus_path = 'sequoia-corpus+fct.mrg_strict'\n",
    "corpus = read(corpus_path)\n",
    "print(len(corpus))\n",
    "print(corpus[3])"
   ]
  },
  {
   "cell_type": "code",
   "execution_count": 4,
   "metadata": {},
   "outputs": [
    {
     "name": "stdout",
     "output_type": "stream",
     "text": [
      "Train corpus length : 2790 (90%)\n",
      "Valid corpus length : 0 (0%)\n",
      "Test corpus length : 309 (Last 10%) \n",
      "\n"
     ]
    }
   ],
   "source": [
    "# split dataset\n",
    "corpus_train, corpus_val, corpus_test = split(corpus,train=0.9, val=0.0, test=0.1)\n",
    "print(\"Train corpus length : {} ({:.0f}%)\".format(len(corpus_train),len(corpus_train)/len(corpus)*100))\n",
    "print(\"Valid corpus length : {} ({:.0f}%)\".format(len(corpus_val),len(corpus_val)/len(corpus)*100))\n",
    "print(\"Test corpus length : {} (Last {:.0f}%)\".format(len(corpus_test),len(corpus_test)/len(corpus)*100),\"\\n\")"
   ]
  },
  {
   "cell_type": "code",
   "execution_count": 5,
   "metadata": {},
   "outputs": [
    {
     "name": "stdout",
     "output_type": "stream",
     "text": [
      "['Ensuite', ',', 'fut', 'installée', 'une', 'autre', 'forge', 'à', 'la', 'Vacquerie', ',', 'à', \"l'\", 'emplacement', \"aujourd'_hui\", 'de', 'Cora', '.']\n"
     ]
    }
   ],
   "source": [
    "# extract sentences (leaves of trees) as list of list of words\n",
    "sentences_train = extract_sentences(corpus_train)\n",
    "sentences_val = extract_sentences(corpus_val)\n",
    "sentences_test = extract_sentences(corpus_test)\n",
    "print(sentences_train[3])"
   ]
  },
  {
   "cell_type": "code",
   "execution_count": 6,
   "metadata": {
    "scrolled": true
   },
   "outputs": [
    {
     "name": "stdout",
     "output_type": "stream",
     "text": [
      "9633\n"
     ]
    }
   ],
   "source": [
    "# extract vocabulary (individual words)\n",
    "vocabulary = build_vocabulary(sentences_train)\n",
    "#vocabVal = build_vocabulary(sVal)\n",
    "#vocabTest = build_vocabulary(sTest)\n",
    "#print(vocabTest.difference(vocabTrain))\n",
    "print(len(vocabulary))\n",
    "vocabulary_indices = {word:idx for idx,word in enumerate(vocabulary)}"
   ]
  },
  {
   "cell_type": "code",
   "execution_count": 7,
   "metadata": {},
   "outputs": [
    {
     "name": "stdout",
     "output_type": "stream",
     "text": [
      "100004 (100004, 64)\n",
      "2177/9633 words not in embedding list\n",
      "9633 (9633, 64)\n"
     ]
    }
   ],
   "source": [
    "# w2v embeddings\n",
    "path_emb = \"polyglot-fr.pkl\"\n",
    "w2v = Word2Vec(path_emb)\n",
    "print(len(w2v.Words),w2v.Embeddings.shape)\n",
    "w2v.extract_subset(vocabulary)\n",
    "print(len(w2v.words),w2v.embeddings.shape)"
   ]
  },
  {
   "cell_type": "code",
   "execution_count": 8,
   "metadata": {},
   "outputs": [],
   "source": [
    "# bigram / unigram\n",
    "ngram = Automaton(N=2)\n",
    "ngram.fit(sentences_train)\n",
    "#ngram.uni['Elf']\n",
    "#print(max(ngram.graph[\"autre\"].values()))\n",
    "#ngram.graph[\"autre\"]\n",
    "#ngram.graph"
   ]
  },
  {
   "cell_type": "code",
   "execution_count": 9,
   "metadata": {
    "scrolled": true
   },
   "outputs": [
    {
     "name": "stdout",
     "output_type": "stream",
     "text": [
      "- Juin 2005 : l' ex- conseiller général RPR des Hauts-de-Seine Didier Schuller et le député-maire -LRB- UMP -RRB- de Levallois-Perret Patrick Balkany comparaissent devant le tribunal correctionnel de Créteil dans l' affaire des HLM des Hauts-de-Seine .\n",
      " \n",
      "Word député-maire not in vocabulary\n",
      "Word député-maire is not included in polyglot\n"
     ]
    },
    {
     "data": {
      "text/plain": [
       "\"- Juin 2005 : l' ex- conseiller général RPR des Hauts-de-Seine Didier Schuller et le députée -LRB- UMP -RRB- de Levallois-Perret Patrick Balkany comparaissent devant le tribunal correctionnel de Créteil dans l' affaire des HLM des Hauts-de-Seine .\""
      ]
     },
     "execution_count": 9,
     "metadata": {},
     "output_type": "execute_result"
    }
   ],
   "source": [
    "# OOV\n",
    "n = 2\n",
    "print(\" \".join(sentences_test[n]))\n",
    "print(\" \")\n",
    "\" \".join(get_best_sentence(sentences_test[n], vocabulary, w2v, ngram))"
   ]
  },
  {
   "cell_type": "code",
   "execution_count": 10,
   "metadata": {},
   "outputs": [],
   "source": [
    "pcfg = PCFG()\n",
    "pcfg.fit_lexicon(corpus_train)\n",
    "pcfg.fit_pcfg(corpus_train) # weird, no unary rules ? "
   ]
  },
  {
   "cell_type": "code",
   "execution_count": 11,
   "metadata": {},
   "outputs": [],
   "source": [
    "#pcfg.pcfg_"
   ]
  },
  {
   "cell_type": "code",
   "execution_count": 27,
   "metadata": {},
   "outputs": [],
   "source": [
    "def P_CYK(sentence,pcfg, allPOS):\n",
    "    \"\"\"ADAPT CODE AYMERIC !!!\"\"\"\n",
    "    \n",
    "    lexicon = pcfg.lexicon_\n",
    "    #allPOS = list(set(pcfg.POS).union(pcfg.pcfg_.keys()))\n",
    "    pos2index = {p:i for i,p in enumerate(allPOS)}\n",
    "    pcfg = pcfg.pcfg_\n",
    "    \n",
    "    #split_sentence = sentence.split()\n",
    "    \n",
    "    #r = len(grammar.non_terminals) ### ?\n",
    "    r = len(allPOS)\n",
    "    \n",
    "    #n = len(split_sentence)\n",
    "    n = len(sentence)\n",
    "    \n",
    "    \n",
    "    P = np.zeros((n,n,r))\n",
    "    back = np.empty((n,n,r),dtype=np.ndarray)\n",
    "\n",
    "    #for s,word in enumerate(split_sentence):\n",
    "    for s,word in enumerate(sentence):\n",
    "        #for pos in grammar.lexicon[word]:\n",
    "        for pos in lexicon[word]:\n",
    "            #v = grammar.pos2index[pos]\n",
    "            v = pos2index[pos]\n",
    "            #print(word)\n",
    "            #print(lexicon[word])\n",
    "            P[0,s,v] = lexicon[word][pos]\n",
    "            \n",
    "    #return P, allPOS\n",
    "    \n",
    "    #browse unaries -> i do not have any unari !!!\n",
    "    #for s in range(n):\n",
    "    #    for prod in grammar.pcfg._productions:\n",
    "    #        if len(prod._rhs)==1:\n",
    "    #            v1 = grammar.pos2index[prod._lhs]\n",
    "    #            v2 = grammar.pos2index[prod._rhs[0]]\n",
    "    #            prob_transition = P[0,s,v2] * prod._ProbabilisticMixIn__prob\n",
    "    #            if P[0,s,v2]>0 and prob_transition > P[0,s,v1]: \n",
    "    #                P[0,s,v1] = prob_transition\n",
    "    #                back[0,s,v1] = (0,v2,None)\n",
    "                    \n",
    "    #browse binary rules\n",
    "    for l in range(2,n+1): #length of span\n",
    "        for s in range(1,n-l+2): #start of span\n",
    "            for p in range(0,l): #partition of span \n",
    "                #for prod in grammar.pcfg._productions:\n",
    "                for lhs in pcfg:\n",
    "                    for rhs in pcfg[lhs]:\n",
    "                        #if len(prod._rhs)==2: #if binary rule\n",
    "                        #a = grammar.pos2index[prod._lhs]\n",
    "                        a = pos2index[lhs]\n",
    "                        #Rb = prod._rhs[0]\n",
    "                        Rb = rhs[0]\n",
    "                        #Rc = prod._rhs[1]\n",
    "                        Rc = rhs[1]\n",
    "                        #b = grammar.pos2index[Rb]\n",
    "                        b = pos2index[Rb]\n",
    "                        #c = grammar.pos2index[Rc]\n",
    "                        c = pos2index[Rc]\n",
    "                        #prob_prod = prod._ProbabilisticMixIn__prob\n",
    "                        prob_prod = pcfg[lhs][rhs]\n",
    "                        \n",
    "                        prob_splitting = prob_prod * P[p-1,s-1,b] * P[l-p-1,s+p-1,c]\n",
    "                        if P[p-1,s-1,b] > 0 and P[l-p-1,s+p-1,c] > 0 and P[l-1,s-1,a] < prob_splitting:\n",
    "                            #print(prod)\n",
    "                            P[l-1,s-1,a] = prob_splitting\n",
    "                            back[l-1,s-1,a] = (p,b,c)\n",
    "    \n",
    "    return P,back \n",
    "\n",
    "def build_tree(backp,sentence,grammar,length=-1,start=0,pos=0,is_splitted = False): \n",
    "    S = ''\n",
    "    if not is_splitted: \n",
    "        sentence = sentence.split()\n",
    "    indexes = backp[length,start,pos]\n",
    "    if indexes is None: \n",
    "        return sentence[start]\n",
    "    else: \n",
    "        p,b,c = indexes\n",
    "        if c is None and not b is None: \n",
    "            #return \"(\" + grammar.non_terminals[b]._symbol+ \" \" + sentence[start] + \")\"\n",
    "            return \"(\" + grammar[b]+ \" \" + sentence[start] + \")\"\n",
    "        #print(non_terminals[pos],non_terminals[b],non_terminals[c])\n",
    "        #S += \"(\" +grammar.non_terminals[b]._symbol+\" \"+ build_tree(backp,sentence,grammar,p-1,start,b,is_splitted = True) +\")\"\n",
    "        S += \"(\" +grammar[b]+\" \"+ build_tree(backp,sentence,grammar,p-1,start,b,is_splitted = True) +\")\"\n",
    "        #S += \"(\" +grammar.non_terminals[c]._symbol+\" \"+ build_tree(backp,sentence,grammar,length-p,start+p,c,is_splitted = True) +\")\" \n",
    "        S += \"(\" +grammar[c]+\" \"+ build_tree(backp,sentence,grammar,length-p,start+p,c,is_splitted = True) +\")\" \n",
    "            \n",
    "    return S\n",
    "\n",
    "def correct_string(string):\n",
    "    return '( (SENT' + string + '))'\n",
    "\n",
    "def un_chomsky(bracket_string):\n",
    "    \n",
    "    tree = nltk.tree.Tree.fromstring(correct_string(bracket_string))\n",
    "    nltk.treetransforms.un_chomsky_normal_form(tree)\n",
    "    result = tree.pformat().replace('\\n','')\n",
    "    return result"
   ]
  },
  {
   "cell_type": "code",
   "execution_count": 62,
   "metadata": {},
   "outputs": [
    {
     "name": "stdout",
     "output_type": "stream",
     "text": [
      "832\n",
      "831\n"
     ]
    }
   ],
   "source": [
    "allPOS = list(set(pcfg.POS).union(pcfg.pcfg_.keys()))\n",
    "print(len(allPOS))\n",
    "allPOS.pop(allPOS.index(\"SENT\"))\n",
    "print(len(allPOS))\n",
    "allPOS = [\"SENT\"] + allPOS"
   ]
  },
  {
   "cell_type": "code",
   "execution_count": 63,
   "metadata": {},
   "outputs": [],
   "source": [
    "#for k in pcfg.pcfg_:\n",
    "#    if \"SENT\" in k:\n",
    "#        print(k)"
   ]
  },
  {
   "cell_type": "code",
   "execution_count": 64,
   "metadata": {},
   "outputs": [
    {
     "name": "stdout",
     "output_type": "stream",
     "text": [
      "0\n",
      "6\n",
      "11\n",
      "14\n",
      "20\n",
      "22\n",
      "23\n",
      "27\n",
      "28\n",
      "32\n",
      "36\n",
      "38\n",
      "44\n",
      "45\n",
      "46\n"
     ]
    }
   ],
   "source": [
    "c = 0\n",
    "for i in range(len(sentences_train)):\n",
    "    if len(sentences_train[i])<15:\n",
    "        print(i)\n",
    "        c+=1\n",
    "    if c ==15:\n",
    "        break"
   ]
  },
  {
   "cell_type": "code",
   "execution_count": 79,
   "metadata": {},
   "outputs": [
    {
     "name": "stdout",
     "output_type": "stream",
     "text": [
      "12.231243133544922\n",
      "(2, 788, 271)\n"
     ]
    }
   ],
   "source": [
    "n = 1 #10\n",
    "#sentence = sentences_train[n]\n",
    "sentence = sentences_test[n]\n",
    "tic = time.time()\n",
    "P,back  = P_CYK(sentence, pcfg, allPOS)\n",
    "print(time.time()-tic)\n",
    "print(back[-1,0,0])"
   ]
  },
  {
   "cell_type": "code",
   "execution_count": 80,
   "metadata": {},
   "outputs": [
    {
     "data": {
      "image/png": "[encoded data removed]",
      "text/plain": [
       "Tree('', [Tree('SENT', [Tree('VN', [Tree('CLS', ['Il']), Tree('V', ['demande'])]), Tree('ADV', ['toutefois']), Tree('NP', [Tree('DET', ['le']), Tree('NC', ['renvoi']), Tree('PP', [Tree('P', ['devant']), Tree('NP', [Tree('DET', ['le']), Tree('NC', ['tribunal']), Tree('AP', [Tree('ADJ', ['correctionnel'])]), Tree('PP', [Tree('P', ['de']), Tree('NP', [Tree('DET', ['la']), Tree('NC', ['majorité']), Tree('PP', [Tree('P', ['de']), Tree('NP', [Tree('DET', ['la']), Tree('NC', ['cinquantaine']), Tree('PP', [Tree('P', ['de']), Tree('NP', [Tree('NC', ['personnes']), Tree('VPpart', [Tree('VPP', ['mises']), Tree('PP', [Tree('P', ['en']), Tree('NP', [Tree('NC', ['examen'])])])])])])])])])])])])]), Tree('PONCT', ['.'])])])"
      ]
     },
     "execution_count": 80,
     "metadata": {},
     "output_type": "execute_result"
    }
   ],
   "source": [
    "S = build_tree(back,sentence,allPOS,length=-1,start=0,pos=0,is_splitted = True)\n",
    "nltk.tree.Tree.fromstring(un_chomsky(S))"
   ]
  },
  {
   "cell_type": "code",
   "execution_count": 81,
   "metadata": {},
   "outputs": [
    {
     "data": {
      "image/png": "[encoded data removed]",
      "text/plain": [
       "Tree('', [Tree('SENT', [Tree('VN', [Tree('CLS', ['Il']), Tree('V', ['demande'])]), Tree('ADV', ['toutefois']), Tree('NP', [Tree('DET', ['le']), Tree('NC', ['renvoi']), Tree('PP', [Tree('P', ['devant']), Tree('NP', [Tree('DET', ['le']), Tree('NC', ['tribunal']), Tree('AP', [Tree('ADJ', ['correctionnel'])])])]), Tree('PP', [Tree('P', ['de']), Tree('NP', [Tree('DET', ['la']), Tree('NC', ['majorité']), Tree('PP', [Tree('P', ['de']), Tree('NP', [Tree('DET', ['la']), Tree('NC', ['cinquantaine']), Tree('PP', [Tree('P', ['de']), Tree('NP', [Tree('NC', ['personnes']), Tree('VPpart', [Tree('VPP', ['mises']), Tree('PP', [Tree('P', ['en']), Tree('NP', [Tree('NC', ['examen'])])])])])])])])])])]), Tree('PONCT', ['.'])])])"
      ]
     },
     "execution_count": 81,
     "metadata": {},
     "output_type": "execute_result"
    }
   ],
   "source": [
    "nltk.tree.Tree.fromstring(corpus_test[n])"
   ]
  },
  {
   "cell_type": "code",
   "execution_count": null,
   "metadata": {},
   "outputs": [],
   "source": [
    "def CYK_parser(sentence, vocabulary, w2v, ngram):\n",
    "    \n",
    "    # axioms ? \n",
    "    pcfg = pcfg.pcfg_ # PCFG\n",
    "    lexicon = pcfg.lexicon_ # lexicon_probabilities\n",
    "\n",
    "    proposed_sentence = get_best_sentence(sentence, vocabulary, w2v, ngram)\n",
    "    n = len(sentence_tokens)\n",
    "    \n",
    "    score = [[{} for i in range(n+1)] for j in range(n+1)]\n",
    "    score_sets_left = [[set() for i in range(n+1)] for j in range(n+1)]\n",
    "    score_sets_right = [[set() for i in range(n+1)] for j in range(n+1)]\n",
    "    back = np.empty((n, n+1, len(pcfg.keys())), dtype=object) # len(dict_NT)\n",
    "    \n",
    "    for i,word in enumerate(proposed_sentence_tokens):\n",
    "        #for POS in lexicon_grammar_inv[word.lower()]:\n",
    "        for POS in lexicon[word].keys():\n",
    "            score[i][i+1][POS] = lexicon_probabilities[dict_POS_tags[POS], dict_words[word.lower()]]\n",
    "            if POS in left_binaries:\n",
    "                score_sets_left[i][i+1].add(POS)\n",
    "            if POS in right_binaries:\n",
    "                score_sets_right[i][i+1].add(POS)"
   ]
  },
  {
   "cell_type": "code",
   "execution_count": null,
   "metadata": {},
   "outputs": [],
   "source": []
  },
  {
   "cell_type": "code",
   "execution_count": null,
   "metadata": {},
   "outputs": [],
   "source": []
  },
  {
   "cell_type": "code",
   "execution_count": null,
   "metadata": {},
   "outputs": [],
   "source": []
  },
  {
   "cell_type": "code",
   "execution_count": null,
   "metadata": {},
   "outputs": [],
   "source": []
  },
  {
   "cell_type": "code",
   "execution_count": 11,
   "metadata": {},
   "outputs": [],
   "source": [
    "# pcfg + lexicon\n",
    "#pcfg = PCFG()\n",
    "#pcfg.fit_pcfg(train)\n",
    "#pcfg.fit_lexicon(train)\n",
    "#pcfg.fit_lexicon(train)\n",
    "#pprint(pcfg.lexicon_)\n",
    "#pcfg.lexicon_['autres']\n",
    "#get_POS('malfaiteurs', pcfg)\n",
    "#get_POS(\"anticoagulants\", pcfg)"
   ]
  },
  {
   "cell_type": "code",
   "execution_count": 12,
   "metadata": {},
   "outputs": [],
   "source": [
    "# test sentence\n",
    "#sentence = sTrain[6]\n",
    "#sentence[0] = 'Ammélioration' # mistake\n",
    "#sentence[0] = \"portiques\" # polyglot but not in train\n",
    "#sentence[-1] = \"pprout\" # polyglot but not in train\n",
    "#print(sentence)\n",
    "#nltk.tree.Tree.fromstring(train[6], remove_empty_top_bracketing=1)"
   ]
  },
  {
   "cell_type": "code",
   "execution_count": 13,
   "metadata": {},
   "outputs": [],
   "source": [
    "#n = 97\n",
    "#print(sTest[n])\n",
    "#nltk.tree.Tree.fromstring(test[n], remove_empty_top_bracketing=1)"
   ]
  },
  {
   "cell_type": "code",
   "execution_count": 14,
   "metadata": {
    "scrolled": true
   },
   "outputs": [],
   "source": [
    "# embeddings\n",
    "#path_emb = \"polyglot-fr.pkl\"\n",
    "#w2v = Word2Vec(path_emb)\n",
    "#print(len(w2v.words),w2v.embeddings.shape)\n",
    "#w2v.extract_subset(vocabTrain)\n",
    "#print(len(w2v.words),w2v.embeddings.shape)\n",
    "#print(w2v.most_similar_embeddings(\"hôtel\"))\n",
    "#print(w2v.most_similar_levenshtein(\"hôtel\", k=10))\n",
    "#print(w2v.most_similar_levenshtein(\"hôtel\",k=10, damerau=True))\n",
    "#w = 'malfaiteurs'\n",
    "#print(w2v.most_similar_embeddings(w))\n",
    "#print(w2v.most_similar_levenshtein(w, k=10))\n",
    "#print(w2v.most_similar_levenshtein(w,k=10, damerau=True))"
   ]
  },
  {
   "cell_type": "code",
   "execution_count": 15,
   "metadata": {},
   "outputs": [],
   "source": [
    "#get_POS('malfaiteurs', pcfg, w2v)"
   ]
  },
  {
   "cell_type": "code",
   "execution_count": 16,
   "metadata": {},
   "outputs": [],
   "source": [
    "#bigram = Automaton(N=2)\n",
    "#bigram.fit(sTrain)\n",
    "#print(bigram)\n",
    "#bigram.graph[\"*a\"].keys()\n",
    "#bigram = Automaton(N=3)\n",
    "#bigram.fit([[\"banane\",\"baobab\"]])\n",
    "#print(len(bigram.vocab_))\n",
    "#bigram.vocab_\n",
    "#print(bigram)\n",
    "#for w in bigram.vocab_:\n",
    "#    if \"$$\" in w:\n",
    "#        print(w)\n",
    "        \n",
    "#for w in bigram.vocab_:\n",
    "#    if \"*\" in w:\n",
    "#        print(w)"
   ]
  },
  {
   "cell_type": "code",
   "execution_count": null,
   "metadata": {},
   "outputs": [],
   "source": []
  },
  {
   "cell_type": "code",
   "execution_count": null,
   "metadata": {},
   "outputs": [],
   "source": []
  },
  {
   "cell_type": "code",
   "execution_count": null,
   "metadata": {},
   "outputs": [],
   "source": []
  },
  {
   "cell_type": "code",
   "execution_count": null,
   "metadata": {
    "scrolled": true
   },
   "outputs": [],
   "source": []
  },
  {
   "cell_type": "code",
   "execution_count": null,
   "metadata": {},
   "outputs": [],
   "source": []
  },
  {
   "cell_type": "markdown",
   "metadata": {},
   "source": [
    "# Scoring"
   ]
  },
  {
   "cell_type": "code",
   "execution_count": 47,
   "metadata": {
    "deletable": false,
    "editable": false,
    "run_control": {
     "frozen": true
    }
   },
   "outputs": [],
   "source": [
    "from PYEVALB import parser as evalbparser"
   ]
  },
  {
   "cell_type": "code",
   "execution_count": 48,
   "metadata": {
    "deletable": false,
    "editable": false,
    "run_control": {
     "frozen": true
    }
   },
   "outputs": [],
   "source": [
    "true_bracket = corpus[3][2:-1]\n",
    "gold_tree = evalbparser.create_from_bracket_string(true_bracket)\n",
    "#test_tree = evalbparser.create_from_bracket_string(proposed_bracket)"
   ]
  },
  {
   "cell_type": "code",
   "execution_count": 49,
   "metadata": {
    "deletable": false,
    "editable": false,
    "run_control": {
     "frozen": true
    }
   },
   "outputs": [
    {
     "data": {
      "image/png": "[encoded data removed]",
      "text/plain": [
       "Tree('SENT', [Tree('ADV', ['Ensuite']), Tree('PONCT', [',']), Tree('VN', [Tree('V', ['fut']), Tree('VPP', ['installée'])]), Tree('NP', [Tree('DET', ['une']), Tree('ADJ', ['autre']), Tree('NC', ['forge'])]), Tree('PP', [Tree('P', ['à']), Tree('NP', [Tree('DET', ['la']), Tree('NPP', ['Vacquerie'])])]), Tree('PONCT', [',']), Tree('PP', [Tree('P', ['à']), Tree('NP', [Tree('DET', [\"l'\"]), Tree('NC', ['emplacement']), Tree('ADV', [\"aujourd'_hui\"]), Tree('PP', [Tree('P', ['de']), Tree('NP', [Tree('NPP', ['Cora'])])])])]), Tree('PONCT', ['.'])])"
      ]
     },
     "execution_count": 49,
     "metadata": {},
     "output_type": "execute_result"
    }
   ],
   "source": [
    "nltk.tree.Tree.fromstring(true_bracket)"
   ]
  },
  {
   "cell_type": "code",
   "execution_count": 50,
   "metadata": {
    "deletable": false,
    "editable": false,
    "run_control": {
     "frozen": true
    }
   },
   "outputs": [
    {
     "data": {
      "image/png": "[encoded data removed]",
      "text/plain": [
       "Tree('SENT', [Tree('ADV', ['Ensuite']), Tree('PONCT', [',']), Tree('VN', [Tree('V', ['fut']), Tree('VPP', ['installée'])]), Tree('NP', [Tree('DET', ['une']), Tree('ADJ', ['autre'])]), Tree('NC', ['forge']), Tree('PP', [Tree('P', ['à']), Tree('NP', [Tree('DET', ['la']), Tree('NPP', ['Vacquerie'])])]), Tree('PONCT', [',']), Tree('PP', [Tree('P', ['à']), Tree('NP', [Tree('DET', [\"l'\"]), Tree('NC', ['emplacement']), Tree('ADV', [\"aujourd'_hui\"]), Tree('PP', [Tree('P', ['de']), Tree('NP', [Tree('NPP', ['Cora'])])])])]), Tree('PONCT', ['.'])])"
      ]
     },
     "execution_count": 50,
     "metadata": {},
     "output_type": "execute_result"
    }
   ],
   "source": [
    "test_bracket = \"(SENT (ADV Ensuite) (PONCT ,) (VN (V fut) (VPP installée)) (NP (DET une) (ADJ autre)) (NC forge) (PP (P à) (NP (DET la) (NPP Vacquerie))) (PONCT ,) (PP (P à) (NP (DET l') (NC emplacement) (ADV aujourd'_hui) (PP (P de) (NP (NPP Cora))))) (PONCT .))\"\n",
    "import nltk\n",
    "nltk.tree.Tree.fromstring(test_bracket)"
   ]
  },
  {
   "cell_type": "code",
   "execution_count": 51,
   "metadata": {
    "deletable": false,
    "editable": false,
    "run_control": {
     "frozen": true
    }
   },
   "outputs": [],
   "source": [
    "test_tree = evalbparser.create_from_bracket_string(test_bracket)"
   ]
  },
  {
   "cell_type": "code",
   "execution_count": 52,
   "metadata": {
    "deletable": false,
    "editable": false,
    "run_control": {
     "frozen": true
    }
   },
   "outputs": [
    {
     "data": {
      "text/plain": [
       "['ADV',\n",
       " 'PONCT',\n",
       " 'V',\n",
       " 'VPP',\n",
       " 'DET',\n",
       " 'ADJ',\n",
       " 'NC',\n",
       " 'P',\n",
       " 'DET',\n",
       " 'NPP',\n",
       " 'PONCT',\n",
       " 'P',\n",
       " 'DET',\n",
       " 'NC',\n",
       " 'ADV',\n",
       " 'P',\n",
       " 'NPP',\n",
       " 'PONCT']"
      ]
     },
     "execution_count": 52,
     "metadata": {},
     "output_type": "execute_result"
    }
   ],
   "source": [
    "gold_tree.poss"
   ]
  },
  {
   "cell_type": "code",
   "execution_count": 53,
   "metadata": {
    "deletable": false,
    "editable": false,
    "run_control": {
     "frozen": true
    }
   },
   "outputs": [
    {
     "data": {
      "text/plain": [
       "['ADV',\n",
       " 'PONCT',\n",
       " 'V',\n",
       " 'VPP',\n",
       " 'DET',\n",
       " 'ADJ',\n",
       " 'NC',\n",
       " 'P',\n",
       " 'DET',\n",
       " 'NPP',\n",
       " 'PONCT',\n",
       " 'P',\n",
       " 'DET',\n",
       " 'NC',\n",
       " 'ADV',\n",
       " 'P',\n",
       " 'NPP',\n",
       " 'PONCT']"
      ]
     },
     "execution_count": 53,
     "metadata": {},
     "output_type": "execute_result"
    }
   ],
   "source": [
    "test_tree.poss"
   ]
  },
  {
   "cell_type": "code",
   "execution_count": 54,
   "metadata": {
    "deletable": false,
    "editable": false,
    "run_control": {
     "frozen": true
    },
    "scrolled": true
   },
   "outputs": [
    {
     "data": {
      "text/plain": [
       "[True,\n",
       " True,\n",
       " True,\n",
       " True,\n",
       " True,\n",
       " True,\n",
       " True,\n",
       " True,\n",
       " True,\n",
       " True,\n",
       " True,\n",
       " True,\n",
       " True,\n",
       " True,\n",
       " True,\n",
       " True,\n",
       " True,\n",
       " True]"
      ]
     },
     "execution_count": 54,
     "metadata": {},
     "output_type": "execute_result"
    }
   ],
   "source": [
    "[i==j for i,j in zip(test_tree.poss,gold_tree.poss)]"
   ]
  },
  {
   "cell_type": "code",
   "execution_count": 55,
   "metadata": {
    "deletable": false,
    "editable": false,
    "run_control": {
     "frozen": true
    }
   },
   "outputs": [
    {
     "data": {
      "text/plain": [
       "ID:  0 length: 18 state:  0 recall:88.89 prec:88.89 matched_brackets:  8 gold_brackets:  9 test_brackets:  9 cross_brackets:  0 words: 18 correct_tags: 18 tag_accracy:100.00 "
      ]
     },
     "execution_count": 55,
     "metadata": {},
     "output_type": "execute_result"
    }
   ],
   "source": [
    "score=scorer.Scorer()\n",
    "result = score.score_trees(gold_tree, test_tree)\n",
    "result"
   ]
  },
  {
   "cell_type": "code",
   "execution_count": 46,
   "metadata": {
    "deletable": false,
    "editable": false,
    "run_control": {
     "frozen": true
    }
   },
   "outputs": [
    {
     "data": {
      "text/plain": [
       "ID:  0 length: 13 state:  0 recall:64.29 prec:60.00 matched_brackets:  9 gold_brackets: 14 test_brackets: 15 cross_brackets:  3 words: 13 correct_tags: 12 tag_accracy:92.31 "
      ]
     },
     "execution_count": 46,
     "metadata": {},
     "output_type": "execute_result"
    }
   ],
   "source": [
    "from PYEVALB import scorer\n",
    "from PYEVALB import parser\n",
    "\n",
    "gold = '(IP (NP (PN 这里)) (VP (ADVP (AD 便)) (VP (VV 产生) (IP (NP (QP (CD 一) (CLP (M 个))) (DNP (NP (JJ 结构性)) (DEG 的)) (NP (NN 盲点))) (PU ：) (IP (VP (VV 臭味相投) (PU ，) (VV 物以类聚)))))) (PU 。))'\n",
    "test = '(IP (IP (NP (PN 这里)) (VP (ADVP (AD 便)) (VP (VV 产生) (NP (QP (CD 一) (CLP (M 个))) (DNP (ADJP (JJ 结构性)) (DEG 的)) (NP (NN 盲点)))))) (PU ：) (IP (NP (NN 臭味相投)) (PU ，) (VP (VV 物以类聚))) (PU 。))'\n",
    "\n",
    "gold_tree = parser.create_from_bracket_string(gold)\n",
    "test_tree = parser.create_from_bracket_string(test)\n",
    "\n",
    "score=scorer.Scorer()\n",
    "result = score.score_trees(gold_tree, test_tree)\n",
    "result"
   ]
  }
 ],
 "metadata": {
  "kernelspec": {
   "display_name": "Python 3",
   "language": "python",
   "name": "python3"
  },
  "toc": {
   "base_numbering": 1,
   "nav_menu": {},
   "number_sections": true,
   "sideBar": true,
   "skip_h1_title": false,
   "title_cell": "Table of Contents",
   "title_sidebar": "Contents",
   "toc_cell": false,
   "toc_position": {},
   "toc_section_display": true,
   "toc_window_display": true
  },
  "varInspector": {
   "cols": {
    "lenName": 16,
    "lenType": 16,
    "lenVar": 40
   },
   "kernels_config": {
    "python": {
     "delete_cmd_postfix": "",
     "delete_cmd_prefix": "del ",
     "library": "var_list.py",
     "varRefreshCmd": "print(var_dic_list())"
    },
    "r": {
     "delete_cmd_postfix": ") ",
     "delete_cmd_prefix": "rm(",
     "library": "var_list.r",
     "varRefreshCmd": "cat(var_dic_list()) "
    }
   },
   "types_to_exclude": [
    "module",
    "function",
    "builtin_function_or_method",
    "instance",
    "_Feature"
   ],
   "window_display": false
  }
 },
 "nbformat": 4,
 "nbformat_minor": 4
}
