{
 "cells": [
  {
   "cell_type": "code",
   "execution_count": null,
   "metadata": {},
   "outputs": [],
   "source": [
    "#%load_ext autoreload\n",
    "#%autoreload 2\n",
    "#from main import main\n",
    "#main()"
   ]
  },
  {
   "cell_type": "code",
   "execution_count": null,
   "metadata": {},
   "outputs": [],
   "source": [
    "#OOV(w2v, ngram,2,30,0.2,damerau=True)\n",
    "#np.mean(scorel) 0.866599281750797\n",
    "#OOV(w2v, ngram,2,20,0.1,damerau=True)\n",
    "#np.mean(scorel) 0.8698798214927248\n",
    "#OOV(w2v, ngram,5,5,0.1,damerau=Fale)\n",
    "# np.mean(scorel) 0.8502234726724525"
   ]
  },
  {
   "cell_type": "markdown",
   "metadata": {},
   "source": [
    "return [corpus_train, corpus_val, corpus_test, sentences_train, POS_train, sentences_val, POS_val, sentences_test, POS_test, vocabulary, w2v, ngram, oov]"
   ]
  },
  {
   "cell_type": "code",
   "execution_count": 24,
   "metadata": {},
   "outputs": [],
   "source": [
    "import pickle\n",
    "import numpy as np"
   ]
  },
  {
   "cell_type": "code",
   "execution_count": 25,
   "metadata": {},
   "outputs": [
    {
     "ename": "FileNotFoundError",
     "evalue": "[Errno 2] No such file or directory: 'results/uni.pk'",
     "output_type": "error",
     "traceback": [
      "\u001b[0;31m---------------------------------------------------------------------------\u001b[0m",
      "\u001b[0;31mFileNotFoundError\u001b[0m                         Traceback (most recent call last)",
      "\u001b[0;32m<ipython-input-25-5298ad464213>\u001b[0m in \u001b[0;36m<module>\u001b[0;34m\u001b[0m\n\u001b[0;32m----> 1\u001b[0;31m \u001b[0ma\u001b[0m \u001b[0;34m=\u001b[0m \u001b[0mpickle\u001b[0m\u001b[0;34m.\u001b[0m\u001b[0mload\u001b[0m\u001b[0;34m(\u001b[0m\u001b[0mopen\u001b[0m\u001b[0;34m(\u001b[0m\u001b[0;34m\"results/uni.pk\"\u001b[0m\u001b[0;34m,\u001b[0m\u001b[0;34m\"rb\"\u001b[0m\u001b[0;34m)\u001b[0m\u001b[0;34m)\u001b[0m\u001b[0;34m\u001b[0m\u001b[0;34m\u001b[0m\u001b[0m\n\u001b[0m\u001b[1;32m      2\u001b[0m \u001b[0mb\u001b[0m \u001b[0;34m=\u001b[0m \u001b[0mpickle\u001b[0m\u001b[0;34m.\u001b[0m\u001b[0mload\u001b[0m\u001b[0;34m(\u001b[0m\u001b[0mopen\u001b[0m\u001b[0;34m(\u001b[0m\u001b[0;34m\"results/multi.pk\"\u001b[0m\u001b[0;34m,\u001b[0m\u001b[0;34m\"rb\"\u001b[0m\u001b[0;34m)\u001b[0m\u001b[0;34m)\u001b[0m\u001b[0;34m\u001b[0m\u001b[0;34m\u001b[0m\u001b[0m\n\u001b[1;32m      3\u001b[0m \u001b[0ma\u001b[0m \u001b[0;34m==\u001b[0m \u001b[0mb\u001b[0m\u001b[0;34m\u001b[0m\u001b[0;34m\u001b[0m\u001b[0m\n",
      "\u001b[0;31mFileNotFoundError\u001b[0m: [Errno 2] No such file or directory: 'results/uni.pk'"
     ]
    }
   ],
   "source": [
    "a = pickle.load(open(\"results/uni.pk\",\"rb\"))\n",
    "b = pickle.load(open(\"results/multi.pk\",\"rb\"))\n",
    "a == b"
   ]
  },
  {
   "cell_type": "code",
   "execution_count": 26,
   "metadata": {},
   "outputs": [],
   "source": [
    "c = pickle.load(open(\"system/results/oov_test.pk\",\"rb\"))"
   ]
  },
  {
   "cell_type": "code",
   "execution_count": 27,
   "metadata": {},
   "outputs": [
    {
     "data": {
      "text/plain": [
       "309"
      ]
     },
     "execution_count": 27,
     "metadata": {},
     "output_type": "execute_result"
    }
   ],
   "source": [
    "len(c)"
   ]
  },
  {
   "cell_type": "code",
   "execution_count": 28,
   "metadata": {},
   "outputs": [],
   "source": [
    "d = pickle.load(open(\"system/results/parse_results.pk\",\"rb\"))"
   ]
  },
  {
   "cell_type": "code",
   "execution_count": 12,
   "metadata": {},
   "outputs": [
    {
     "data": {
      "text/plain": [
       "309"
      ]
     },
     "execution_count": 12,
     "metadata": {},
     "output_type": "execute_result"
    }
   ],
   "source": [
    "len(d)"
   ]
  },
  {
   "cell_type": "code",
   "execution_count": 29,
   "metadata": {
    "scrolled": true
   },
   "outputs": [],
   "source": [
    "scores = pickle.load(open(\"system/results/scores.pk\",\"rb\"))"
   ]
  },
  {
   "cell_type": "code",
   "execution_count": 30,
   "metadata": {},
   "outputs": [
    {
     "name": "stdout",
     "output_type": "stream",
     "text": [
      "85\n",
      "0.8889803033405533\n"
     ]
    }
   ],
   "source": [
    "print(len(scores[scores==-np.infty]))\n",
    "print(np.mean(scores[scores!=-np.infty]))"
   ]
  },
  {
   "cell_type": "code",
   "execution_count": 31,
   "metadata": {},
   "outputs": [
    {
     "data": {
      "text/plain": [
       "0.2750809061488673"
      ]
     },
     "execution_count": 31,
     "metadata": {},
     "output_type": "execute_result"
    }
   ],
   "source": [
    "85/309"
   ]
  },
  {
   "cell_type": "code",
   "execution_count": 32,
   "metadata": {},
   "outputs": [],
   "source": [
    "import numpy as np\n",
    "import pandas as pd\n",
    "import seaborn as sns\n",
    "import matplotlib.pyplot as plt\n",
    "from collections import defaultdict\n",
    "sns.set(style=\"whitegrid\")\n",
    "%matplotlib inline"
   ]
  },
  {
   "cell_type": "code",
   "execution_count": 42,
   "metadata": {},
   "outputs": [
    {
     "data": {
      "text/plain": [
       "['__pycache__',\n",
       " 'Ngram.py',\n",
       " 'results',\n",
       " 'PCFG.py',\n",
       " 'main.py',\n",
       " 'CYK.py',\n",
       " 'data',\n",
       " 'config.py',\n",
       " 'run.sh',\n",
       " 'eval.py',\n",
       " 'utils.py',\n",
       " 'Word2Vec.py',\n",
       " 'OOV.py']"
      ]
     },
     "execution_count": 42,
     "metadata": {},
     "output_type": "execute_result"
    }
   ],
   "source": [
    "import os\n",
    "os.chdir('system')\n",
    "os.getcwd()\n",
    "os.listdir()"
   ]
  },
  {
   "cell_type": "code",
   "execution_count": 43,
   "metadata": {},
   "outputs": [
    {
     "name": "stdout",
     "output_type": "stream",
     "text": [
      "Loading corpus ...\n",
      "Splitting corpus ...\n",
      "Train corpus length : 2790 (90%)\n",
      "Valid corpus length : 0 (0%)\n",
      "Test corpus length : 309 (Last 10%) \n",
      "\n"
     ]
    }
   ],
   "source": [
    "from utils import *\n",
    "print(\"Loading corpus ...\")\n",
    "corpus = read(\"data/sequoia-corpus+fct.mrg_strict\")\n",
    "# split corpus\n",
    "print(\"Splitting corpus ...\")\n",
    "corpus_train, corpus_val, corpus_test = split(corpus,train=0.9, val=0, test=0.1)\n",
    "\n",
    "print(\"Train corpus length : {} ({:.0f}%)\".format(len(corpus_train),len(corpus_train)/len(corpus)*100))\n",
    "print(\"Valid corpus length : {} ({:.0f}%)\".format(len(corpus_val),len(corpus_val)/len(corpus)*100))\n",
    "print(\"Test corpus length : {} (Last {:.0f}%)\".format(len(corpus_test),len(corpus_test)/len(corpus)*100),\"\\n\")\n",
    "\n",
    "# extract sentences (leaves of trees) as list of list of words\n",
    "sentences_train, POS_train = extract_sentences(corpus_train)\n",
    "sentences_val, POS_val = extract_sentences(corpus_val)\n",
    "sentences_test, POS_test = extract_sentences(corpus_test)"
   ]
  },
  {
   "cell_type": "code",
   "execution_count": 46,
   "metadata": {},
   "outputs": [
    {
     "data": {
      "image/png": "[encoded data removed]",
      "text/plain": [
       "<Figure size 504x504 with 3 Axes>"
      ]
     },
     "metadata": {},
     "output_type": "display_data"
    }
   ],
   "source": [
    "nb_err = []\n",
    "size = []\n",
    "for i in range(len(scores)):\n",
    "    if scores[i]==-np.infty:\n",
    "        continue\n",
    "    size += [len(sentences_test[i])]\n",
    "    nb_err += [scores[i]]\n",
    " \n",
    "data = pd.DataFrame({'Tag accuracy':nb_err , 'Sentence length':size})\n",
    "\n",
    "sns.set(style=\"darkgrid\")\n",
    "\n",
    "tips = sns.load_dataset(\"tips\")\n",
    "g = sns.jointplot('Sentence length', 'Tag accuracy', data=data,\n",
    "                  kind=\"reg\", truncate=False,\n",
    "                  xlim=(0, np.max(size)+1), ylim=(0, 1.1),\n",
    "                  color=\"r\", height=7)"
   ]
  },
  {
   "cell_type": "code",
   "execution_count": 58,
   "metadata": {},
   "outputs": [
    {
     "data": {
      "image/png": "[encoded data removed]",
      "text/plain": [
       "<Figure size 504x504 with 1 Axes>"
      ]
     },
     "metadata": {},
     "output_type": "display_data"
    }
   ],
   "source": [
    "size = []\n",
    "for i in range(len(scores)):\n",
    "    if scores[i]==-np.infty:\n",
    "        size += [len(sentences_test[i])]\n",
    "\n",
    "f, ax = plt.subplots(figsize=(7, 7))\n",
    "ax.set_xticks(range(0,84,4))\n",
    "sns.distplot(size, bins=84, kde=False, ax=ax, axlabel=(\"Sentence Length\"))\n",
    "ax.set_ylabel(\"Number of elements\");"
   ]
  },
  {
   "cell_type": "code",
   "execution_count": 47,
   "metadata": {},
   "outputs": [],
   "source": [
    "nb_err = []\n",
    "size = []\n",
    "for i in range(len(scores)):\n",
    "    if scores[i]==-np.infty:\n",
    "        continue\n",
    "    size += [len(sentences_test[i])]\n",
    "    nb_err += [scores[i]]\n",
    " \n",
    "data1 = pd.DataFrame({'Tag accuracy':nb_err , 'Sentence length':size})"
   ]
  },
  {
   "cell_type": "code",
   "execution_count": 48,
   "metadata": {},
   "outputs": [],
   "source": [
    "size = []\n",
    "for i in range(len(scores)):\n",
    "    if scores[i]==-np.infty:\n",
    "        size += [len(sentences_test[i])]"
   ]
  },
  {
   "cell_type": "code",
   "execution_count": 52,
   "metadata": {},
   "outputs": [
    {
     "data": {
      "image/png": "[encoded data removed]",
      "text/plain": [
       "<Figure size 1008x504 with 2 Axes>"
      ]
     },
     "metadata": {},
     "output_type": "display_data"
    },
    {
     "data": {
      "image/png": "[encoded data removed]",
      "text/plain": [
       "<Figure size 360x360 with 3 Axes>"
      ]
     },
     "metadata": {},
     "output_type": "display_data"
    }
   ],
   "source": [
    "sns.set(style=\"darkgrid\")\n",
    "tips = sns.load_dataset(\"tips\")\n",
    "\n",
    "f, (ax1,ax2) = plt.subplots(1,2, figsize=(14, 7))\n",
    "sns.distplot(size, bins=84, kde=False, ax=ax2)\n",
    "ax2.set_xticks(range(0,84,4))\n",
    "\n",
    "g = sns.jointplot('Sentence length', 'Tag accuracy', data=data,\n",
    "                  kind=\"reg\", truncate=False,\n",
    "                  xlim=(0, np.max(size)+1), ylim=(0, 1.1),\n",
    "                  color=\"r\", ax=ax1, height=5)"
   ]
  },
  {
   "cell_type": "code",
   "execution_count": 47,
   "metadata": {},
   "outputs": [
    {
     "data": {
      "text/plain": [
       "2     13\n",
       "3     12\n",
       "4      1\n",
       "5      7\n",
       "6      1\n",
       "8      2\n",
       "9      1\n",
       "10     2\n",
       "13     2\n",
       "15     2\n",
       "16     2\n",
       "17     2\n",
       "18     1\n",
       "19     4\n",
       "22     2\n",
       "23     1\n",
       "25     2\n",
       "26     1\n",
       "28     1\n",
       "29     1\n",
       "32     1\n",
       "33     2\n",
       "34     1\n",
       "35     3\n",
       "37     1\n",
       "38     1\n",
       "39     1\n",
       "40     1\n",
       "44     1\n",
       "45     1\n",
       "46     2\n",
       "48     3\n",
       "49     2\n",
       "53     1\n",
       "59     2\n",
       "62     1\n",
       "67     1\n",
       "dtype: int64"
      ]
     },
     "execution_count": 47,
     "metadata": {},
     "output_type": "execute_result"
    }
   ],
   "source": [
    "s.value_counts().sort_index()"
   ]
  },
  {
   "cell_type": "code",
   "execution_count": 1,
   "metadata": {},
   "outputs": [],
   "source": []
  },
  {
   "cell_type": "code",
   "execution_count": 9,
   "metadata": {},
   "outputs": [],
   "source": [
    "import pickle\n",
    "import numpy as np\n",
    "import itertools \n",
    "\n",
    "\n",
    "class Word2Vec():\n",
    "\t\"\"\"Store embeddings \"\"\"\n",
    "\n",
    "\tdef __init__(self, filepath):\n",
    "\n",
    "\t\t## Items from the whole polyglot dataset\n",
    "\t\tself.words, self.embeddings = pickle.load(open(filepath, 'rb'),encoding='latin-1')\n",
    "\t\t# Mappings for O(1) retrieval:\n",
    "\t\tself.word2id = {word: idx for idx, word in enumerate(self.words)}\n",
    "\t\tself.id2word = {idx: word for idx, word in enumerate(self.words)}\n",
    "\t\tself.embeddings_shape = self.embeddings.shape[1]\n",
    "\t\t\n",
    "\t\n",
    "\t   \n",
    "\tdef encode(self, word):\n",
    "\t\t\"\"\"Return embedding of a word from the vocabulary\n",
    "\t\tIf the word is not present in the vocabulary, return an array of 0s\n",
    "\t\t\n",
    "\t\tParameters\n",
    "\t\t----------\n",
    "\t\tword : str\n",
    "\t\t\tquery word\n",
    "\t\t\t\n",
    "\t\tReturns\n",
    "\t\t-------\n",
    "\t\tembedding : array-like, shape (300,)\n",
    "\t\t\"\"\"\n",
    "\t\t\n",
    "\t\tidx = self.word2id.get(word, -1)\n",
    "\t\tif idx == -1:\n",
    "\t\t\t#print(\"Word {} is not included in the vocabulary\".format(word))\n",
    "\t\t\treturn np.zeros(self.embeddings.shape[1])\n",
    "\t\t\t\n",
    "\t\treturn self.embeddings[idx]\n",
    "\t\t\n",
    "\t\t\t\n",
    "\tdef score(self, word1, word2, encoded=False):\n",
    "\t\t\"\"\"Return cosine similarity between word1 and word2\n",
    "\t\tIf encoded==True both words are assumed to be in encoded format\n",
    "\t\tIf encoded==False both words are assumed to be in string format\n",
    "\t\t\n",
    "\t\tParameters\n",
    "\t\t----------\n",
    "\t\tword1, word2 : str if encoded==False else array-like (shape, (300,))\n",
    "\t\t\tquery words\n",
    "\t\tencoded: bool, default: False\n",
    "\t\t\t\n",
    "\t\tReturns\n",
    "\t\t-------\n",
    "\t\tscore : float\n",
    "\t\t\tcosine similarity\n",
    "\t\t\"\"\"\n",
    "\n",
    "\t\tif encoded:\n",
    "\t\t\te1,e2 = word1,word2\n",
    "\t\telse:\n",
    "\t\t\te1,e2 = self.encode(word1),self.encode(word2)\n",
    "\n",
    "\t\tif np.sum(e1)==0 or np.sum(e2)==0: return 0\n",
    "\t\t\n",
    "\t\t# cosine similarity\n",
    "\t\tscore = np.dot(e1, e2)  / (np.linalg.norm(e1)*np.linalg.norm(e2))\n",
    "\t\t\n",
    "\t\treturn score    \n",
    "\n",
    "\n",
    "\n",
    "\n",
    "\tdef most_similar_embeddings(self, word, k=1):\n",
    "\t\t\"\"\"Return k most similar words to 'word' in term of cosine similarity\n",
    "\t\t\n",
    "\t\tParameters\n",
    "\t\t----------\n",
    "\t\tword : str \n",
    "\t\t\tquery word\n",
    "\t\tk : int, default: 5\n",
    "\t\t\tnumber of similar words\n",
    "\t\t\t\n",
    "\t\tReturns\n",
    "\t\t-------\n",
    "\t\tsimilar_words: list\n",
    "\t\t\"\"\"\n",
    "\n",
    "\t\tidx = self.word2id.get(word, -1)\n",
    "\t\tif idx == -1:\n",
    "\t\t\t#print(\"Word {} is not included in polyglot\".format(word))\n",
    "\t\t\treturn []\n",
    "\t\tword  = self.embeddings[idx]\n",
    "\n",
    "\t\tscores = [self.score(word, w, encoded=True) for w in self.embeddings]\n",
    "\t\tclosest_k = np.argsort(scores)[::-1][:k]\n",
    "\t\t\n",
    "\t\treturn [self.id2word[i] for i in closest_k]\n"
   ]
  },
  {
   "cell_type": "code",
   "execution_count": 10,
   "metadata": {},
   "outputs": [],
   "source": [
    "w2v = Word2Vec(\"system/data/polyglot-fr.pkl\")"
   ]
  },
  {
   "cell_type": "code",
   "execution_count": 22,
   "metadata": {},
   "outputs": [
    {
     "data": {
      "text/plain": [
       "['alimenter',\n",
       " 'approvisionner',\n",
       " 'évacuer',\n",
       " 'exploiter',\n",
       " 'isoler',\n",
       " 'emprunter',\n",
       " 'implanter',\n",
       " 'abriter',\n",
       " 'administrer',\n",
       " 'éliminer',\n",
       " 'héberger',\n",
       " 'adapter',\n",
       " 'élargir',\n",
       " 'entrainer',\n",
       " 'acheminer',\n",
       " 'introduire',\n",
       " 'équilibrer',\n",
       " 'affecter',\n",
       " 'englober',\n",
       " 'exporter']"
      ]
     },
     "execution_count": 22,
     "metadata": {},
     "output_type": "execute_result"
    }
   ],
   "source": [
    "w2v.most_similar_embeddings(\"alimenter\",k=20)"
   ]
  },
  {
   "cell_type": "code",
   "execution_count": null,
   "metadata": {},
   "outputs": [],
   "source": []
  }
 ],
 "metadata": {
  "kernelspec": {
   "display_name": "Python 3",
   "language": "python",
   "name": "python3"
  },
  "language_info": {
   "codemirror_mode": {
    "name": "ipython",
    "version": 3
   },
   "file_extension": ".py",
   "mimetype": "text/x-python",
   "name": "python",
   "nbconvert_exporter": "python",
   "pygments_lexer": "ipython3",
   "version": "3.7.6"
  },
  "toc": {
   "base_numbering": 1,
   "nav_menu": {},
   "number_sections": true,
   "sideBar": true,
   "skip_h1_title": false,
   "title_cell": "Table of Contents",
   "title_sidebar": "Contents",
   "toc_cell": false,
   "toc_position": {},
   "toc_section_display": true,
   "toc_window_display": true
  },
  "varInspector": {
   "cols": {
    "lenName": 16,
    "lenType": 16,
    "lenVar": 40
   },
   "kernels_config": {
    "python": {
     "delete_cmd_postfix": "",
     "delete_cmd_prefix": "del ",
     "library": "var_list.py",
     "varRefreshCmd": "print(var_dic_list())"
    },
    "r": {
     "delete_cmd_postfix": ") ",
     "delete_cmd_prefix": "rm(",
     "library": "var_list.r",
     "varRefreshCmd": "cat(var_dic_list()) "
    }
   },
   "types_to_exclude": [
    "module",
    "function",
    "builtin_function_or_method",
    "instance",
    "_Feature"
   ],
   "window_display": false
  }
 },
 "nbformat": 4,
 "nbformat_minor": 4
}
